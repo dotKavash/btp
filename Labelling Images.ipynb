{
 "cells": [
  {
   "cell_type": "markdown",
   "metadata": {},
   "source": [
    "# 1. Import Dependencies"
   ]
  },
  {
   "cell_type": "code",
   "execution_count": 1,
   "metadata": {},
   "outputs": [
    {
     "name": "stdout",
     "output_type": "stream",
     "text": [
      "Requirement already satisfied: opencv-python in c:\\users\\xboxg\\appdata\\local\\programs\\python\\python39\\lib\\site-packages (4.5.4.60)\n",
      "Requirement already satisfied: numpy>=1.19.3 in c:\\users\\xboxg\\appdata\\local\\programs\\python\\python39\\lib\\site-packages (from opencv-python) (1.21.4)\n"
     ]
    }
   ],
   "source": [
    "!pip install opencv-python"
   ]
  },
  {
   "cell_type": "code",
   "execution_count": 2,
   "metadata": {},
   "outputs": [],
   "source": [
    "import cv2 \n",
    "import uuid\n",
    "import os\n",
    "import time"
   ]
  },
  {
   "cell_type": "code",
   "execution_count": 3,
   "metadata": {},
   "outputs": [],
   "source": [
    "labels = ['car','person','pothole','bike']\n",
    "number_imgs = 5"
   ]
  },
  {
   "cell_type": "code",
   "execution_count": 4,
   "metadata": {},
   "outputs": [],
   "source": [
    "img_path = os.path.join('Tensorflow', 'workspace', 'images', 'collectedimages')"
   ]
  },
  {
   "cell_type": "code",
   "execution_count": 5,
   "metadata": {},
   "outputs": [],
   "source": [
    "if not os.path.exists(img_path):\n",
    "     if os.name == 'nt':\n",
    "         !mkdir {img_path}\n",
    "for label in labels:\n",
    "    path = os.path.join(img_path, label)\n",
    "    if not os.path.exists(path):\n",
    "        !mkdir {path}"
   ]
  },
  {
   "cell_type": "code",
   "execution_count": 6,
   "metadata": {},
   "outputs": [
    {
     "name": "stdout",
     "output_type": "stream",
     "text": [
      "Requirement already satisfied: pyqt5 in c:\\users\\xboxg\\appdata\\local\\programs\\python\\python39\\lib\\site-packages (5.15.6)\n",
      "Requirement already satisfied: lxml in c:\\users\\xboxg\\appdata\\local\\programs\\python\\python39\\lib\\site-packages (4.6.4)\n",
      "Requirement already satisfied: PyQt5-sip<13,>=12.8 in c:\\users\\xboxg\\appdata\\local\\programs\\python\\python39\\lib\\site-packages (from pyqt5) (12.9.0)\n",
      "Requirement already satisfied: PyQt5-Qt5>=5.15.2 in c:\\users\\xboxg\\appdata\\local\\programs\\python\\python39\\lib\\site-packages (from pyqt5) (5.15.2)\n"
     ]
    }
   ],
   "source": [
    "!pip install --upgrade pyqt5 lxml"
   ]
  },
  {
   "cell_type": "code",
   "execution_count": 7,
   "metadata": {},
   "outputs": [],
   "source": [
    "label_path = os.path.join('Tensorflow', 'labelimg')"
   ]
  },
  {
   "cell_type": "code",
   "execution_count": 8,
   "metadata": {},
   "outputs": [],
   "source": [
    "if not os.path.exists(label_path):\n",
    "    !mkdir {label_path}\n",
    "    !git clone https://github.com/tzutalin/labelImg {label_path}"
   ]
  },
  {
   "cell_type": "code",
   "execution_count": 9,
   "metadata": {},
   "outputs": [],
   "source": [
    "if os.name =='nt':\n",
    "    !cd {label_path} && pyrcc5 -o libs/resources.py resources.qrc"
   ]
  },
  {
   "cell_type": "code",
   "execution_count": 10,
   "metadata": {},
   "outputs": [],
   "source": [
    "!cd {label_path} && python labelImg.py"
   ]
  }
 ],
 "metadata": {
  "interpreter": {
   "hash": "f5b33e6adbb0eddec063cec3f0a2cf7d15ff09dca61f54915814c25b7d8fdbf2"
  },
  "kernelspec": {
   "display_name": "tfod",
   "language": "python",
   "name": "python3"
  },
  "language_info": {
   "codemirror_mode": {
    "name": "ipython",
    "version": 3
   },
   "file_extension": ".py",
   "mimetype": "text/x-python",
   "name": "python",
   "nbconvert_exporter": "python",
   "pygments_lexer": "ipython3",
   "version": "3.9.7"
  }
 },
 "nbformat": 4,
 "nbformat_minor": 2
}
